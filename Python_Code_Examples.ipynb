{
  "nbformat": 4,
  "nbformat_minor": 0,
  "metadata": {
    "colab": {
      "provenance": [],
      "authorship_tag": "ABX9TyPA2RjY9qeqNzLjk0/UzrKj",
      "include_colab_link": true
    },
    "kernelspec": {
      "name": "python3",
      "display_name": "Python 3"
    },
    "language_info": {
      "name": "python"
    }
  },
  "cells": [
    {
      "cell_type": "markdown",
      "metadata": {
        "id": "view-in-github",
        "colab_type": "text"
      },
      "source": [
        "<a href=\"https://colab.research.google.com/github/Sutapa94/Python-Code-Examples/blob/main/Python_Code_Examples.ipynb\" target=\"_parent\"><img src=\"https://colab.research.google.com/assets/colab-badge.svg\" alt=\"Open In Colab\"/></a>"
      ]
    },
    {
      "cell_type": "markdown",
      "source": [
        "##**1. Prime Number**"
      ],
      "metadata": {
        "id": "EnDPQ3VGHRQq"
      }
    },
    {
      "cell_type": "code",
      "execution_count": null,
      "metadata": {
        "colab": {
          "base_uri": "https://localhost:8080/"
        },
        "id": "3w5NGo1sHQGW",
        "outputId": "7e99669a-5878-426b-ca07-09b11582207a"
      },
      "outputs": [
        {
          "output_type": "stream",
          "name": "stdout",
          "text": [
            "39\n",
            "39 is not prime\n"
          ]
        }
      ],
      "source": [
        "def is_prime(n):\n",
        "  if n<=1:\n",
        "    return False\n",
        "  elif n<=3:\n",
        "    return True\n",
        "  elif n%2==0 or n%3==0:\n",
        "    return False\n",
        "  i=5\n",
        "  while i*i<=n:\n",
        "    if n%i==0 or n%(i+2)==0:\n",
        "      return False\n",
        "    i+=6\n",
        "  return True\n",
        "\n",
        "n = int(input())\n",
        "if is_prime(n):\n",
        "  print(n, \"is prime\")\n",
        "else:\n",
        "  print(n, \"is not prime\")\n",
        "\n"
      ]
    },
    {
      "cell_type": "markdown",
      "source": [
        "##**2. Fibonacci Series**"
      ],
      "metadata": {
        "id": "StufkEKcL6AT"
      }
    },
    {
      "cell_type": "code",
      "source": [
        "n=int(input())\n",
        "a=0\n",
        "b=1\n",
        "print(a)\n",
        "print(b)\n",
        "for i in range(n-2):\n",
        "  c=a+b\n",
        "  print(c)\n",
        "  a=b\n",
        "  b=c\n"
      ],
      "metadata": {
        "colab": {
          "base_uri": "https://localhost:8080/"
        },
        "id": "0VI-U7SLHfUW",
        "outputId": "6a1d1c3b-2d60-4f48-bb46-39cd429c51d7"
      },
      "execution_count": null,
      "outputs": [
        {
          "output_type": "stream",
          "name": "stdout",
          "text": [
            "10\n",
            "0\n",
            "1\n",
            "1\n",
            "2\n",
            "3\n",
            "5\n",
            "8\n",
            "13\n",
            "21\n",
            "34\n"
          ]
        }
      ]
    },
    {
      "cell_type": "markdown",
      "source": [
        "##**3. Factorial of a number**"
      ],
      "metadata": {
        "id": "KtjA9gWqOqzG"
      }
    },
    {
      "cell_type": "code",
      "source": [
        "n = int(input())\n",
        "def fact(n):\n",
        "  if n<=1:\n",
        "    return 1\n",
        "  else:\n",
        "    return n*fact(n-1)\n",
        "\n",
        "print(fact(n))\n",
        "\n",
        "\n"
      ],
      "metadata": {
        "colab": {
          "base_uri": "https://localhost:8080/"
        },
        "id": "lVVrIlWNMUN6",
        "outputId": "98635286-89f6-4ae8-8d3a-7ae4c969cb2d"
      },
      "execution_count": null,
      "outputs": [
        {
          "output_type": "stream",
          "name": "stdout",
          "text": [
            "2\n",
            "2\n"
          ]
        }
      ]
    },
    {
      "cell_type": "markdown",
      "source": [
        "##**4. String Palindrome**"
      ],
      "metadata": {
        "id": "drDDG4piP_aJ"
      }
    },
    {
      "cell_type": "code",
      "source": [
        "n= input()\n",
        "def is_palindrome(n):\n",
        "  l=n[::-1]\n",
        "  if n==l:\n",
        "    return True\n",
        "  else:\n",
        "    return False\n",
        "print(is_palindrome(n))\n"
      ],
      "metadata": {
        "colab": {
          "base_uri": "https://localhost:8080/"
        },
        "id": "wCmgNf61P5gm",
        "outputId": "4326cfa2-b33a-4d17-b9e7-2737101b9dc5"
      },
      "execution_count": null,
      "outputs": [
        {
          "output_type": "stream",
          "name": "stdout",
          "text": [
            "aabaa\n",
            "True\n"
          ]
        }
      ]
    },
    {
      "cell_type": "markdown",
      "source": [
        "##**5. Reverse without [::-1] or any special functions**"
      ],
      "metadata": {
        "id": "PJVkwAhpTAAC"
      }
    },
    {
      "cell_type": "code",
      "source": [
        "n=input()\n",
        "def rev(n):\n",
        "  result=\"\"\n",
        "  for i in n:\n",
        "    result= i+result\n",
        "  return result\n",
        "\n",
        "print(rev(n))"
      ],
      "metadata": {
        "colab": {
          "base_uri": "https://localhost:8080/"
        },
        "id": "32rsmqq9SFvh",
        "outputId": "9978ca20-83d4-4111-f8f6-049fa7bf7ded"
      },
      "execution_count": null,
      "outputs": [
        {
          "output_type": "stream",
          "name": "stdout",
          "text": [
            "ggttvb\n",
            "bvttgg\n"
          ]
        }
      ]
    },
    {
      "cell_type": "markdown",
      "source": [
        "##**6. Even or Odd**"
      ],
      "metadata": {
        "id": "SVssZg8fTopj"
      }
    },
    {
      "cell_type": "code",
      "source": [
        "n=int(input())\n",
        "if n%2==0:\n",
        "  print(\"Even Number\")\n",
        "else:\n",
        "  print(\"Odd Number\")"
      ],
      "metadata": {
        "colab": {
          "base_uri": "https://localhost:8080/"
        },
        "id": "1A2He6QTTXXe",
        "outputId": "abc81dfb-0e41-449b-9b27-055ca4d42160"
      },
      "execution_count": null,
      "outputs": [
        {
          "output_type": "stream",
          "name": "stdout",
          "text": [
            "79\n",
            "Odd Number\n"
          ]
        }
      ]
    },
    {
      "cell_type": "markdown",
      "source": [
        "##**7. Pangram**"
      ],
      "metadata": {
        "id": "EUI774hV4gNm"
      }
    },
    {
      "cell_type": "code",
      "source": [
        "n = input(\"Enter a string: \")\n",
        "alphabet=set(\"abcdefghijklmnopqrstuvwxyz\")\n",
        "def pangram_check(n):\n",
        "  n=n.lower()\n",
        "  for char in alphabet:\n",
        "    if char not in n:\n",
        "      return False\n",
        "  return True\n",
        "\n",
        "print(pangram_check(n))"
      ],
      "metadata": {
        "colab": {
          "base_uri": "https://localhost:8080/"
        },
        "id": "xlbSohzOT6wm",
        "outputId": "d0c13723-ec13-4ccb-aafb-424e2a666854"
      },
      "execution_count": null,
      "outputs": [
        {
          "output_type": "stream",
          "name": "stdout",
          "text": [
            "Enter a string: the quick brown fox jumps over the lazy dog.\n",
            "True\n"
          ]
        }
      ]
    },
    {
      "cell_type": "markdown",
      "source": [
        "##**8. Count the number of words in a sentence**"
      ],
      "metadata": {
        "id": "iXwOPmYJd3yD"
      }
    },
    {
      "cell_type": "code",
      "source": [
        "def count_words(n):\n",
        "  l=n.split()\n",
        "  return len(l)\n",
        "\n",
        "n=input(\"Enter a sentence: \")\n",
        "print(\"Total Words in this sentence is\",count_words(n))"
      ],
      "metadata": {
        "id": "cpmnBZSH410x",
        "colab": {
          "base_uri": "https://localhost:8080/"
        },
        "outputId": "5cb1c12b-9b42-4545-9b4f-5159b41a1d83"
      },
      "execution_count": null,
      "outputs": [
        {
          "output_type": "stream",
          "name": "stdout",
          "text": [
            "Enter a sentence: Hi! My name is Sutapa\n",
            "Total Words in this sentence is 5\n"
          ]
        }
      ]
    },
    {
      "cell_type": "markdown",
      "source": [
        "##**9. Find the sum of squares of numbers from 1 to N**"
      ],
      "metadata": {
        "id": "hE0eX7UdfLYA"
      }
    },
    {
      "cell_type": "code",
      "source": [
        "def square_number(n):\n",
        "  total = 0\n",
        "  for i in range(1,n+1):\n",
        "    total+=i**2\n",
        "  return total\n",
        "\n",
        "n=int(input())\n",
        "print(f\"Sum of squares of number from 1 to {n} is {square_number(n)}\")"
      ],
      "metadata": {
        "colab": {
          "base_uri": "https://localhost:8080/"
        },
        "id": "B7AC0w4LeMGF",
        "outputId": "648c2488-9884-4764-a0b3-684a92408875"
      },
      "execution_count": null,
      "outputs": [
        {
          "output_type": "stream",
          "name": "stdout",
          "text": [
            "5\n",
            "Sum of squares of number from 1 to 5 is 55\n"
          ]
        }
      ]
    },
    {
      "cell_type": "markdown",
      "source": [
        "##**10. Find the number is Armstrong or not**"
      ],
      "metadata": {
        "id": "kfwvKAg9gcgj"
      }
    },
    {
      "cell_type": "code",
      "source": [
        "def is_armstrong(n):\n",
        "  k=0\n",
        "  l=n\n",
        "  pow=len(str(n))\n",
        "  while n>0:\n",
        "    r=n%10\n",
        "    n=n//10\n",
        "    k+=r**pow\n",
        "  if k==l and l>0:\n",
        "    return \"Armstrong\"\n",
        "  else:\n",
        "    return \"Not an Armstrong\"\n",
        "\n",
        "\n",
        "n=int(input())\n",
        "print(is_armstrong(n))\n"
      ],
      "metadata": {
        "colab": {
          "base_uri": "https://localhost:8080/"
        },
        "id": "PPCOTqsMYXBt",
        "outputId": "12de20c3-4de7-42a3-d0af-60b5529ce1bd"
      },
      "execution_count": null,
      "outputs": [
        {
          "output_type": "stream",
          "name": "stdout",
          "text": [
            "5\n",
            "Armstrong\n"
          ]
        }
      ]
    },
    {
      "cell_type": "markdown",
      "source": [
        "##**11. Find max number in a list without max function**"
      ],
      "metadata": {
        "id": "CVDlaTSXbmVt"
      }
    },
    {
      "cell_type": "code",
      "source": [
        "def max_number(arr,n):\n",
        "  max=arr[0]\n",
        "  for i in range(1,n):\n",
        "    if arr[i]>max:\n",
        "      max=arr[i]\n",
        "  return max\n",
        "\n",
        "arr=list(map(int,input().split()))\n",
        "n=len(arr)\n",
        "print(max_number(arr,n))"
      ],
      "metadata": {
        "colab": {
          "base_uri": "https://localhost:8080/"
        },
        "id": "YPIpiKD1Ztxx",
        "outputId": "655ca59e-c20c-48eb-8251-7ebb0bae3e0d"
      },
      "execution_count": null,
      "outputs": [
        {
          "output_type": "stream",
          "name": "stdout",
          "text": [
            "2 3 4 5 1 98 56 44\n",
            "98\n"
          ]
        }
      ]
    },
    {
      "cell_type": "markdown",
      "source": [
        "##**12. Min Number without min function**"
      ],
      "metadata": {
        "id": "hygCowbAdnKH"
      }
    },
    {
      "cell_type": "code",
      "source": [
        "def min_number(arr,n):\n",
        "  min=arr[0]\n",
        "  for i in range(1,n):\n",
        "    if arr[i]<min:\n",
        "      min=arr[i]\n",
        "  return min\n",
        "arr=list(map(int,input().split()))\n",
        "n=len(arr)\n",
        "print(min_number(arr,n))"
      ],
      "metadata": {
        "colab": {
          "base_uri": "https://localhost:8080/"
        },
        "id": "v51RjMyZcn7e",
        "outputId": "44359fb8-d7f5-4890-fee9-2b36c3ab3d63"
      },
      "execution_count": null,
      "outputs": [
        {
          "output_type": "stream",
          "name": "stdout",
          "text": [
            "2 3 4 5 1 98 56 44\n",
            "1\n"
          ]
        }
      ]
    },
    {
      "cell_type": "markdown",
      "source": [
        "##**13. Program to print ASCII Value of a character**"
      ],
      "metadata": {
        "id": "K8gVkJ6_gU__"
      }
    },
    {
      "cell_type": "code",
      "source": [
        "def ascii_value(a):\n",
        "  return ord(a)\n",
        "a=input()\n",
        "print(ascii_value(a))\n"
      ],
      "metadata": {
        "colab": {
          "base_uri": "https://localhost:8080/"
        },
        "id": "NsMTsjsbeA3v",
        "outputId": "35d64e3d-5d17-48fb-9105-60b6762136ec"
      },
      "execution_count": null,
      "outputs": [
        {
          "output_type": "stream",
          "name": "stdout",
          "text": [
            "A\n",
            "65\n"
          ]
        }
      ]
    },
    {
      "cell_type": "markdown",
      "source": [
        "##**14. Number Palindrome**"
      ],
      "metadata": {
        "id": "itBJi5O2hMvx"
      }
    },
    {
      "cell_type": "code",
      "source": [
        "n = int(input())\n",
        "def is_number_palindrome(n):\n",
        "  original = n\n",
        "  result=0\n",
        "  while n>0:\n",
        "    r=n%10\n",
        "    n=n//10\n",
        "    result=result*10 + r\n",
        "  if original == result:\n",
        "    return \"Palindrome\"\n",
        "  else:\n",
        "    return \"Not Palindrome\"\n",
        "\n",
        "print(is_number_palindrome(n))"
      ],
      "metadata": {
        "colab": {
          "base_uri": "https://localhost:8080/"
        },
        "id": "3ax3UD29g-Ab",
        "outputId": "469dc895-411e-4418-a3f0-cb0894e73753"
      },
      "execution_count": null,
      "outputs": [
        {
          "output_type": "stream",
          "name": "stdout",
          "text": [
            "11211\n",
            "Palindrome\n"
          ]
        }
      ]
    },
    {
      "cell_type": "markdown",
      "source": [
        "##**15. Number is a Perfect Square**"
      ],
      "metadata": {
        "id": "7FUStz1PhyKr"
      }
    },
    {
      "cell_type": "code",
      "source": [
        "def is_perfect(n):\n",
        "  if n<0:\n",
        "    return False\n",
        "  else:\n",
        "    sq=int(n**0.5)\n",
        "    return sq*sq==n\n",
        "\n",
        "n=int(input())\n",
        "print(is_perfect(n))"
      ],
      "metadata": {
        "id": "Ij4IPUamBYsY",
        "colab": {
          "base_uri": "https://localhost:8080/"
        },
        "outputId": "96e2e4c5-3082-48c4-d2e3-3427f3c45ce7"
      },
      "execution_count": null,
      "outputs": [
        {
          "output_type": "stream",
          "name": "stdout",
          "text": [
            "25\n",
            "True\n"
          ]
        }
      ]
    },
    {
      "cell_type": "markdown",
      "source": [
        "##**16. Given number is Fibonacci Number or not**"
      ],
      "metadata": {
        "id": "0ANlGfdxD5D2"
      }
    },
    {
      "cell_type": "code",
      "source": [
        "def is_fibo(n):\n",
        "  return is_perfect(5*n*n + 4) or is_perfect(5*n*n - 4)\n",
        "\n",
        "n=int(input())\n",
        "print(is_fibo(n))"
      ],
      "metadata": {
        "id": "YEWH74rHBmgi",
        "colab": {
          "base_uri": "https://localhost:8080/"
        },
        "outputId": "05639f74-f1f4-4d74-b76d-3ff314e8731b"
      },
      "execution_count": null,
      "outputs": [
        {
          "output_type": "stream",
          "name": "stdout",
          "text": [
            "13\n",
            "True\n"
          ]
        }
      ]
    },
    {
      "cell_type": "markdown",
      "source": [
        "##**17. Binary Search**"
      ],
      "metadata": {
        "id": "csszid0SHHY8"
      }
    },
    {
      "cell_type": "code",
      "source": [
        "def binary_search(a,n):\n",
        "  l=0\n",
        "  h=len(a)-1\n",
        "  m=0\n",
        "  while l<=h:\n",
        "    m=(l+h)//2\n",
        "    if a[m]==n:\n",
        "      return m\n",
        "    elif a[m]>n:\n",
        "      h=m-1\n",
        "    else:\n",
        "      l=m+1\n",
        "  return -1\n",
        "\n",
        "a=list(map(int,input().split()))\n",
        "n=int(input())\n",
        "\n",
        "result= binary_search(a,n)\n",
        "if result != -1:\n",
        "  print(f\"{n} found at index {result}\")\n",
        "else:\n",
        "  print(f\"{n} is not there in the list\")"
      ],
      "metadata": {
        "colab": {
          "base_uri": "https://localhost:8080/"
        },
        "id": "OBFJW4SfGWqI",
        "outputId": "f209e9a3-c735-4b26-cb43-1e58e9822f06"
      },
      "execution_count": null,
      "outputs": [
        {
          "output_type": "stream",
          "name": "stdout",
          "text": [
            "1 2 3 4 5 6\n",
            "6\n",
            "6 found at index 5\n"
          ]
        }
      ]
    },
    {
      "cell_type": "markdown",
      "source": [
        "##**18. Linear Search**"
      ],
      "metadata": {
        "id": "TmEcXslYPsGg"
      }
    },
    {
      "cell_type": "code",
      "source": [
        "def linear_search(a,n):\n",
        "  for i in range(len(a)):\n",
        "    if n==a[i]:\n",
        "      return i\n",
        "  return -1\n",
        "\n",
        "a=list(map(int,input().split()))\n",
        "n=int(input())\n",
        "\n",
        "result=linear_search(a,n)\n",
        "if result != -1:\n",
        "  print(f\"{n} is found at {result}\")\n",
        "else:\n",
        "  print(f\"{n} is not there in the list\")"
      ],
      "metadata": {
        "colab": {
          "base_uri": "https://localhost:8080/"
        },
        "id": "g0HAgRDWOYIR",
        "outputId": "0457f616-4d56-4743-8137-e273a1313a29"
      },
      "execution_count": null,
      "outputs": [
        {
          "output_type": "stream",
          "name": "stdout",
          "text": [
            "6754 8736437 8787 123 876\n",
            "8787\n",
            "8787 is found at 2\n"
          ]
        }
      ]
    },
    {
      "cell_type": "markdown",
      "source": [
        "##**19. Bubble Sort**"
      ],
      "metadata": {
        "id": "AYuvKFRqW4ug"
      }
    },
    {
      "cell_type": "code",
      "source": [
        "def bubble_sort(a):\n",
        "  n=len(a)\n",
        "  for i in range(n-1):\n",
        "    for j in range(n-1,0,-1):\n",
        "      if a[j]<a[j-1]:\n",
        "        a[j-1],a[j]=a[j],a[j-1]\n",
        "  return a\n",
        "\n",
        "a=list(map(int,input().split()))\n",
        "print(bubble_sort(a))\n"
      ],
      "metadata": {
        "colab": {
          "base_uri": "https://localhost:8080/"
        },
        "id": "6YsucWhoWjef",
        "outputId": "1d24ac16-a1f2-4193-b532-9253c0ba2ba8"
      },
      "execution_count": null,
      "outputs": [
        {
          "output_type": "stream",
          "name": "stdout",
          "text": [
            "4 0 89 1 8\n",
            "[0, 1, 4, 8, 89]\n"
          ]
        }
      ]
    },
    {
      "cell_type": "markdown",
      "source": [
        "##**20. Insertion Sort**"
      ],
      "metadata": {
        "id": "csa46OSkwr7Q"
      }
    },
    {
      "cell_type": "code",
      "source": [
        "def insertion_sort(arr):\n",
        "  n=len(arr)\n",
        "  for i in range(1,n):\n",
        "    key=arr[i]\n",
        "    j=i-1\n",
        "    while j>=0 and arr[j]>key:\n",
        "      arr[j+1]=arr[j]\n",
        "      j=j-1\n",
        "    arr[j+1]=key\n",
        "  return arr\n",
        "\n",
        "\n",
        "arr=list(map(int,input().split()))\n",
        "result=insertion_sort(arr)\n",
        "print(result)"
      ],
      "metadata": {
        "colab": {
          "base_uri": "https://localhost:8080/"
        },
        "id": "OtPnTBDR3JEx",
        "outputId": "f4e5c28f-9f9a-44a8-c28c-e8d78cfe9adc"
      },
      "execution_count": null,
      "outputs": [
        {
          "output_type": "stream",
          "name": "stdout",
          "text": [
            "4 0 89 1 8\n",
            "[0, 1, 4, 8, 89]\n"
          ]
        }
      ]
    },
    {
      "cell_type": "markdown",
      "source": [
        "##**21. Selection Sort**"
      ],
      "metadata": {
        "id": "FJZ66q1xLBpE"
      }
    },
    {
      "cell_type": "code",
      "source": [
        "def selection_sort(arr):\n",
        "  n=len(arr)\n",
        "  for i in range(n-1):\n",
        "    min=i\n",
        "    for j in range(i+1,n):\n",
        "      if arr[j]<arr[min]:\n",
        "        min=j\n",
        "    arr[i],arr[min]=arr[min],arr[i]\n",
        "  return arr\n",
        "\n",
        "arr=list(map(int,input().split()))\n",
        "result=selection_sort(arr)\n",
        "print(result)"
      ],
      "metadata": {
        "colab": {
          "base_uri": "https://localhost:8080/"
        },
        "id": "ZdbMpxlO7oRt",
        "outputId": "d6af712c-3195-4f7c-d671-d05c966a4da4"
      },
      "execution_count": null,
      "outputs": [
        {
          "output_type": "stream",
          "name": "stdout",
          "text": [
            "4 0 89 1 8\n",
            "[0, 1, 4, 8, 89]\n"
          ]
        }
      ]
    },
    {
      "cell_type": "markdown",
      "source": [
        "##**22. Merge Sort**"
      ],
      "metadata": {
        "id": "aTDXPTp-Od77"
      }
    },
    {
      "cell_type": "code",
      "source": [
        "def merge(arr1,arr2):\n",
        "  n1=len(arr1)\n",
        "  n2=len(arr2)\n",
        "  result=[]\n",
        "  i,j=0,0\n",
        "  while i<n1 and j<n2:\n",
        "    if arr1[i]<arr2[j]:\n",
        "      result.append(arr1[i])\n",
        "      i+=1\n",
        "    else:\n",
        "      result.append(arr2[j])\n",
        "      j+=1\n",
        "  if i<n1:\n",
        "    result+=arr1[i:]\n",
        "  if j<n2:\n",
        "    result+=arr2[j:]\n",
        "  return result\n",
        "\n",
        "def merge_sort(arr):\n",
        "  n=len(arr)\n",
        "  if n<=1:\n",
        "    return arr\n",
        "  else:\n",
        "    left = merge_sort(arr[0:n//2])\n",
        "    right = merge_sort(arr[n//2:n])\n",
        "  return merge(left,right)\n",
        "\n",
        "arr=list(map(int,input().split()))\n",
        "res=merge_sort(arr)\n",
        "print(res)"
      ],
      "metadata": {
        "colab": {
          "base_uri": "https://localhost:8080/"
        },
        "id": "wxQxc9oDNm4q",
        "outputId": "28155e13-c43d-42b1-eb05-4e880f5b1bcd"
      },
      "execution_count": null,
      "outputs": [
        {
          "output_type": "stream",
          "name": "stdout",
          "text": [
            "1 89 09 34 0 9 07 \n",
            "[0, 1, 7, 9, 9, 34, 89]\n"
          ]
        }
      ]
    },
    {
      "cell_type": "markdown",
      "source": [
        "##**23. Quick Sort**"
      ],
      "metadata": {
        "id": "zSrRIxtB4xme"
      }
    },
    {
      "cell_type": "code",
      "source": [
        "def partition(arr,low,high):\n",
        "  pivot=arr[high]\n",
        "  i=low-1\n",
        "  for j in range(low,high):\n",
        "    if arr[j]<=pivot:\n",
        "      i+=1\n",
        "      arr[i],arr[j] = arr[j],arr[i]\n",
        "  arr[i+1],arr[high] = arr[high],arr[i+1]\n",
        "  return i+1\n",
        "\n",
        "def quick_sort(arr,low,high):\n",
        "  if low<high:\n",
        "    p = partition(arr,low,high)\n",
        "    quick_sort(arr,low,p-1)\n",
        "    quick_sort(arr,p+1,high)\n",
        "\n",
        "arr=list(map(int,input().split()))\n",
        "n=len(arr)\n",
        "quick_sort(arr,0,n-1)\n",
        "print(arr)"
      ],
      "metadata": {
        "id": "8c6J-EqRilHN",
        "colab": {
          "base_uri": "https://localhost:8080/"
        },
        "outputId": "22929bcf-87aa-414b-9fee-abccfbcf42df"
      },
      "execution_count": null,
      "outputs": [
        {
          "output_type": "stream",
          "name": "stdout",
          "text": [
            "1 89 09 34 0 9 07 \n",
            "[0, 1, 7, 9, 9, 34, 89]\n"
          ]
        }
      ]
    },
    {
      "cell_type": "markdown",
      "source": [
        "##**24. Heap Sort**"
      ],
      "metadata": {
        "id": "2-z0dk7F41t4"
      }
    },
    {
      "cell_type": "code",
      "source": [
        "def heapfy(arr,n,i):\n",
        "  largest = i\n",
        "  l = 2*i + 1\n",
        "  r = 2*i +2\n",
        "  if l<n and arr[largest]<arr[l]:\n",
        "    largest=l\n",
        "  if r<n and arr[largest]<arr[r]:\n",
        "    largest=r\n",
        "  if largest != i:\n",
        "    arr[i],arr[largest] = arr[largest],arr[i]\n",
        "    heapfy(arr,n, largest)\n",
        "\n",
        "def heap_sort(arr):\n",
        "  n=len(arr)\n",
        "  for i in range(n//2 -1 ,-1 , -1):\n",
        "    heapfy(arr,n,i)\n",
        "  for i in range(n-1 , 0, -1):\n",
        "    arr[i],arr[0] = arr[0],arr[i]\n",
        "    heapfy(arr,i,0)\n",
        "\n",
        "arr=list(map(int,input().split()))\n",
        "heap_sort(arr)\n",
        "print(arr)"
      ],
      "metadata": {
        "id": "jVA-dk8P5FdI",
        "colab": {
          "base_uri": "https://localhost:8080/"
        },
        "outputId": "1692157e-1ddf-4289-82cc-cea841c9451e"
      },
      "execution_count": null,
      "outputs": [
        {
          "output_type": "stream",
          "name": "stdout",
          "text": [
            "1 89 09 34 0 9 07 \n",
            "[0, 1, 7, 9, 9, 34, 89]\n"
          ]
        }
      ]
    },
    {
      "cell_type": "markdown",
      "source": [
        "##**25. Hashing**\n",
        "### hash() is built in hash function in python to obtain hash code of an object"
      ],
      "metadata": {
        "id": "LrBTORTr5GBd"
      }
    },
    {
      "cell_type": "code",
      "source": [
        "a=\"Hello World\"\n",
        "result= hash(a)\n",
        "print(result)\n",
        "\n",
        "# Hashable objects\n",
        "print(hash(\"hello\"))\n",
        "print(hash(42))\n",
        "print(hash((1, 2, 3)))\n",
        "\n",
        "# Unhashable objects (will raise a TypeError)\n",
        "# hash([1, 2, 3])\n",
        "# hash({\"key\": \"value\"})\n",
        "\n",
        "## immutable types like string, number, tupple are hashable\n",
        "## mutable types like list and dictionaries are not hashable\n",
        "\n"
      ],
      "metadata": {
        "id": "96aNuuXQ5KX0",
        "colab": {
          "base_uri": "https://localhost:8080/"
        },
        "outputId": "647e7cb0-8afd-4455-98ac-3f1e98d6db72"
      },
      "execution_count": null,
      "outputs": [
        {
          "output_type": "stream",
          "name": "stdout",
          "text": [
            "1279204130535433299\n",
            "3661537341540062579\n",
            "42\n",
            "529344067295497451\n"
          ]
        }
      ]
    },
    {
      "cell_type": "markdown",
      "source": [
        "##**26. Hash Collision**"
      ],
      "metadata": {
        "id": "kWk1FrVpbxRC"
      }
    },
    {
      "cell_type": "code",
      "source": [
        "# hash collision function\n",
        "\n",
        "def simple_hash(a):\n",
        "  return len(a)%10\n",
        "\n",
        "l=\"Sutapa\"\n",
        "m=\"Samrat\"\n",
        "\n",
        "h1 = simple_hash(l)\n",
        "h2 = simple_hash(m)\n",
        "print(h1,h2)\n",
        "\n",
        "# different input giving same hash code so this is collision\n",
        "# To avoid this collision we should use better hash function , double hashing, perfect hashing, increase the hash space etc"
      ],
      "metadata": {
        "colab": {
          "base_uri": "https://localhost:8080/"
        },
        "id": "QqGFRq4GdBcL",
        "outputId": "0262cac3-a8ed-4f63-8085-8d49b4233006"
      },
      "execution_count": null,
      "outputs": [
        {
          "output_type": "stream",
          "name": "stdout",
          "text": [
            "6 6\n"
          ]
        }
      ]
    },
    {
      "cell_type": "markdown",
      "source": [
        "##**27. Hash Tables**"
      ],
      "metadata": {
        "id": "2OhQhhCpd8Dz"
      }
    },
    {
      "cell_type": "code",
      "source": [
        "# Dictionaries in python are implemented as hash tables\n",
        "# Here we use key value pair and and this is extremely efficient for fast retrieval of values based on keys\n",
        "\n",
        "d={\n",
        "    \"name\":\"Sutapa\",\n",
        "    \"age\":24,\n",
        "    \"city\":\"Bangalore\"\n",
        "}\n",
        "\n",
        "# accessing values using keys\n",
        "print(d[\"name\"])\n",
        "print(d[\"age\"])\n",
        "\n",
        "# modifying values\n",
        "d[\"age\"]=29\n",
        "print(d[\"age\"])\n",
        "\n",
        "#adding new key-value pair\n",
        "d[\"country\"]=\"India\"\n",
        "print(d[\"country\"])\n",
        "\n",
        "#deleteing key-value pair\n",
        "del d[\"country\"]\n",
        "\n",
        "#itering over key-value pair\n",
        "for key,value in d.items():\n",
        "  print(key,\":\",value)\n",
        "\n"
      ],
      "metadata": {
        "colab": {
          "base_uri": "https://localhost:8080/"
        },
        "id": "ks_hl9dSeFQB",
        "outputId": "abf3c6c4-bfbc-4c17-b321-d5b4669e9d0f"
      },
      "execution_count": null,
      "outputs": [
        {
          "output_type": "stream",
          "name": "stdout",
          "text": [
            "Sutapa\n",
            "24\n",
            "29\n",
            "India\n",
            "name : Sutapa\n",
            "age : 29\n",
            "city : Bangalore\n"
          ]
        }
      ]
    },
    {
      "cell_type": "markdown",
      "source": [
        "##**28. Custom hash Function**"
      ],
      "metadata": {
        "id": "6qSMP1JBf57K"
      }
    },
    {
      "cell_type": "code",
      "source": [
        "def custom_hash_function(data):\n",
        "  a=\"random\"\n",
        "  k=a+data\n",
        "  r=0\n",
        "  for i in k:\n",
        "    r+=ord(i)\n",
        "  return r\n",
        "\n",
        "data = input()\n",
        "hash_result = custom_hash_function(data)\n",
        "print(hash_result)"
      ],
      "metadata": {
        "colab": {
          "base_uri": "https://localhost:8080/"
        },
        "id": "hQUHCdBQgOGz",
        "outputId": "be343028-c430-4796-fae5-e1bef600f12d"
      },
      "execution_count": null,
      "outputs": [
        {
          "output_type": "stream",
          "name": "stdout",
          "text": [
            "sutapa\n",
            "1295\n"
          ]
        }
      ]
    },
    {
      "cell_type": "markdown",
      "source": [
        "##**29.Hashing for data integrity**"
      ],
      "metadata": {
        "id": "9p3FT_PKhkeT"
      }
    },
    {
      "cell_type": "code",
      "source": [
        "import hashlib\n",
        "\n",
        "def generate_hash(data):\n",
        "  hasher = hashlib.sha256()\n",
        "  hasher.update(data.encode())\n",
        "  return hasher.hexdigest()\n",
        "\n",
        "original_data = \"Hello my name is Sutapa\"\n",
        "original_hash_code = generate_hash(original_data)\n",
        "\n",
        "retrieval_data = \"Hello my name is Sutapa\"\n",
        "retrieval_hash_code = generate_hash(retrieval_data)\n",
        "\n",
        "if original_hash_code==retrieval_hash_code:\n",
        "  print(\"data integrity is intact\")\n",
        "else:\n",
        "  print(\"data integrity is compromised\")\n"
      ],
      "metadata": {
        "colab": {
          "base_uri": "https://localhost:8080/"
        },
        "id": "s5LsyDkWjIWf",
        "outputId": "3eac4d26-b71e-4405-d7b6-62b13ab8204e"
      },
      "execution_count": null,
      "outputs": [
        {
          "output_type": "stream",
          "name": "stdout",
          "text": [
            "data integrity is intact\n"
          ]
        }
      ]
    },
    {
      "cell_type": "markdown",
      "source": [
        "##**30. Advanced Hashing**"
      ],
      "metadata": {
        "id": "i_X8_s0pl7Yi"
      }
    },
    {
      "cell_type": "code",
      "source": [
        "# Password Storage\n",
        "\n",
        "import hashlib\n",
        "\n",
        "def hash_password(password):\n",
        "  salt = \"random_salt\"\n",
        "  hasher = hashlib.sha256()\n",
        "  hasher.update((password+salt).encode())\n",
        "  return (hasher.hexdigest(),salt)\n",
        "\n",
        "user_password = \"Hello@123\"\n",
        "user_password_hash, salt = hash_password(user_password)\n",
        "\n",
        "input_user_password = \"Hello@123\"\n",
        "input_user_password_hash,salt = hash_password(input_user_password)\n",
        "\n",
        "if user_password_hash == input_user_password_hash:\n",
        "  print(\"Login Successfull\")\n",
        "else:\n",
        "  print(\"Password is not correct\")"
      ],
      "metadata": {
        "colab": {
          "base_uri": "https://localhost:8080/"
        },
        "id": "3ZVXKv4VIcSS",
        "outputId": "db2f0c77-74ed-4aea-ffd7-fa0b644a0588"
      },
      "execution_count": null,
      "outputs": [
        {
          "output_type": "stream",
          "name": "stdout",
          "text": [
            "Login Successfull\n"
          ]
        }
      ]
    },
    {
      "cell_type": "markdown",
      "source": [
        "##**OOPS concepts related examples**"
      ],
      "metadata": {
        "id": "NOXqYu4YNL3f"
      }
    },
    {
      "cell_type": "code",
      "source": [
        "class a:\n",
        "  def __init__(self,name):\n",
        "    self.name=name\n",
        "  def test(self):\n",
        "    print(self.name)\n",
        "\n",
        "class b(a):\n",
        "  def test(self):\n",
        "    print(\"Hi\",self.name)\n",
        "\n",
        "class\n",
        "\n",
        "\n",
        "x=a(\"sutapa\")\n",
        "x.test()\n",
        "y=b(\"Samrat\")\n",
        "y.test()\n",
        "\n"
      ],
      "metadata": {
        "id": "_YrdLajlNRbn",
        "colab": {
          "base_uri": "https://localhost:8080/"
        },
        "outputId": "5dd9fc7d-4a84-4bcc-e60e-e0e8e6cbc90d"
      },
      "execution_count": null,
      "outputs": [
        {
          "output_type": "stream",
          "name": "stdout",
          "text": [
            "sutapa\n",
            "Hi Samrat\n"
          ]
        }
      ]
    },
    {
      "cell_type": "code",
      "source": [
        "class Parent1:\n",
        "    def common_method(self):\n",
        "        print(\"Common method in Parent1\")\n",
        "\n",
        "class Parent2:\n",
        "    def common_method(self):\n",
        "        print(\"Common method in Parent2\")\n",
        "\n",
        "# Child class inheriting from both Parent1 and Parent2\n",
        "class Child(Parent1, Parent2):\n",
        "    pass\n",
        "\n",
        "child_obj = Child()\n",
        "child_obj.common_method()  # Which common_method will be called?\n"
      ],
      "metadata": {
        "colab": {
          "base_uri": "https://localhost:8080/"
        },
        "id": "D9URp_-KFIi1",
        "outputId": "8ef6cf7c-7312-47fd-d1f2-156e2a21fe7d"
      },
      "execution_count": null,
      "outputs": [
        {
          "output_type": "stream",
          "name": "stdout",
          "text": [
            "Common method in Parent1\n"
          ]
        }
      ]
    },
    {
      "cell_type": "markdown",
      "source": [
        "##**numpy/pandas inbuilt functions from scratch**"
      ],
      "metadata": {
        "id": "xpQNOry95MJG"
      }
    },
    {
      "cell_type": "code",
      "source": [
        "import numpy as np\n",
        "a=np.array([[1,2,3]])\n",
        "a.ndim"
      ],
      "metadata": {
        "id": "ngoIJgih5ceB",
        "colab": {
          "base_uri": "https://localhost:8080/"
        },
        "outputId": "3a4b5076-872e-4307-f2dc-ceb66b4b0ff1"
      },
      "execution_count": null,
      "outputs": [
        {
          "output_type": "execute_result",
          "data": {
            "text/plain": [
              "2"
            ]
          },
          "metadata": {},
          "execution_count": 6
        }
      ]
    },
    {
      "cell_type": "code",
      "source": [
        "arr = np.array([1,2,3])\n",
        "print(np.cumsum(arr))"
      ],
      "metadata": {
        "colab": {
          "base_uri": "https://localhost:8080/"
        },
        "id": "EJSRcM7HJylf",
        "outputId": "0005b551-b6d2-437e-99ed-ec77aceca928"
      },
      "execution_count": null,
      "outputs": [
        {
          "output_type": "stream",
          "name": "stdout",
          "text": [
            "[1 3 6]\n"
          ]
        }
      ]
    },
    {
      "cell_type": "code",
      "source": [],
      "metadata": {
        "id": "w_BaxLr6k7uf"
      },
      "execution_count": null,
      "outputs": []
    }
  ]
}