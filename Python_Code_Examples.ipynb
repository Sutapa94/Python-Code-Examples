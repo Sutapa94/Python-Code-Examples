{
  "nbformat": 4,
  "nbformat_minor": 0,
  "metadata": {
    "colab": {
      "provenance": [],
      "authorship_tag": "ABX9TyOMmdmwHIJYWymjAxyEevCs",
      "include_colab_link": true
    },
    "kernelspec": {
      "name": "python3",
      "display_name": "Python 3"
    },
    "language_info": {
      "name": "python"
    }
  },
  "cells": [
    {
      "cell_type": "markdown",
      "metadata": {
        "id": "view-in-github",
        "colab_type": "text"
      },
      "source": [
        "<a href=\"https://colab.research.google.com/github/Sutapa94/Python-Code-Examples/blob/main/Python_Code_Examples.ipynb\" target=\"_parent\"><img src=\"https://colab.research.google.com/assets/colab-badge.svg\" alt=\"Open In Colab\"/></a>"
      ]
    },
    {
      "cell_type": "markdown",
      "source": [
        "##**1. Prime Number**"
      ],
      "metadata": {
        "id": "EnDPQ3VGHRQq"
      }
    },
    {
      "cell_type": "code",
      "execution_count": null,
      "metadata": {
        "colab": {
          "base_uri": "https://localhost:8080/"
        },
        "id": "3w5NGo1sHQGW",
        "outputId": "7e99669a-5878-426b-ca07-09b11582207a"
      },
      "outputs": [
        {
          "output_type": "stream",
          "name": "stdout",
          "text": [
            "39\n",
            "39 is not prime\n"
          ]
        }
      ],
      "source": [
        "def is_prime(n):\n",
        "  if n<=1:\n",
        "    return False\n",
        "  elif n<=3:\n",
        "    return True\n",
        "  elif n%2==0 or n%3==0:\n",
        "    return False\n",
        "  i=5\n",
        "  while i*i<=n:\n",
        "    if n%i==0 or n%(i+2)==0:\n",
        "      return False\n",
        "    i+=6\n",
        "  return True\n",
        "\n",
        "n = int(input())\n",
        "if is_prime(n):\n",
        "  print(n, \"is prime\")\n",
        "else:\n",
        "  print(n, \"is not prime\")\n",
        "\n"
      ]
    },
    {
      "cell_type": "markdown",
      "source": [
        "##**2. Fibonacci Series**"
      ],
      "metadata": {
        "id": "StufkEKcL6AT"
      }
    },
    {
      "cell_type": "code",
      "source": [
        "n=int(input())\n",
        "a=0\n",
        "b=1\n",
        "print(a)\n",
        "print(b)\n",
        "for i in range(n-2):\n",
        "  c=a+b\n",
        "  print(c)\n",
        "  a=b\n",
        "  b=c\n"
      ],
      "metadata": {
        "colab": {
          "base_uri": "https://localhost:8080/"
        },
        "id": "0VI-U7SLHfUW",
        "outputId": "6a1d1c3b-2d60-4f48-bb46-39cd429c51d7"
      },
      "execution_count": null,
      "outputs": [
        {
          "output_type": "stream",
          "name": "stdout",
          "text": [
            "10\n",
            "0\n",
            "1\n",
            "1\n",
            "2\n",
            "3\n",
            "5\n",
            "8\n",
            "13\n",
            "21\n",
            "34\n"
          ]
        }
      ]
    },
    {
      "cell_type": "markdown",
      "source": [
        "##**3. Factorial of a number**"
      ],
      "metadata": {
        "id": "KtjA9gWqOqzG"
      }
    },
    {
      "cell_type": "code",
      "source": [
        "n = int(input())\n",
        "def fact(n):\n",
        "  if n<=1:\n",
        "    return 1\n",
        "  else:\n",
        "    return n*fact(n-1)\n",
        "\n",
        "print(fact(n))\n",
        "\n",
        "\n"
      ],
      "metadata": {
        "colab": {
          "base_uri": "https://localhost:8080/"
        },
        "id": "lVVrIlWNMUN6",
        "outputId": "98635286-89f6-4ae8-8d3a-7ae4c969cb2d"
      },
      "execution_count": null,
      "outputs": [
        {
          "output_type": "stream",
          "name": "stdout",
          "text": [
            "2\n",
            "2\n"
          ]
        }
      ]
    },
    {
      "cell_type": "markdown",
      "source": [
        "##**4. String Palindrome**"
      ],
      "metadata": {
        "id": "drDDG4piP_aJ"
      }
    },
    {
      "cell_type": "code",
      "source": [
        "n= input()\n",
        "def is_palindrome(n):\n",
        "  l=n[::-1]\n",
        "  if n==l:\n",
        "    return True\n",
        "  else:\n",
        "    return False\n",
        "print(is_palindrome(n))\n"
      ],
      "metadata": {
        "colab": {
          "base_uri": "https://localhost:8080/"
        },
        "id": "wCmgNf61P5gm",
        "outputId": "4326cfa2-b33a-4d17-b9e7-2737101b9dc5"
      },
      "execution_count": null,
      "outputs": [
        {
          "output_type": "stream",
          "name": "stdout",
          "text": [
            "aabaa\n",
            "True\n"
          ]
        }
      ]
    },
    {
      "cell_type": "markdown",
      "source": [
        "##**5. Reverse without [::-1] or any special functions**"
      ],
      "metadata": {
        "id": "PJVkwAhpTAAC"
      }
    },
    {
      "cell_type": "code",
      "source": [
        "n=input()\n",
        "def rev(n):\n",
        "  result=\"\"\n",
        "  for i in n:\n",
        "    result= i+result\n",
        "  return result\n",
        "\n",
        "print(rev(n))"
      ],
      "metadata": {
        "colab": {
          "base_uri": "https://localhost:8080/"
        },
        "id": "32rsmqq9SFvh",
        "outputId": "9978ca20-83d4-4111-f8f6-049fa7bf7ded"
      },
      "execution_count": null,
      "outputs": [
        {
          "output_type": "stream",
          "name": "stdout",
          "text": [
            "ggttvb\n",
            "bvttgg\n"
          ]
        }
      ]
    },
    {
      "cell_type": "markdown",
      "source": [
        "##**6. Even or Odd**"
      ],
      "metadata": {
        "id": "SVssZg8fTopj"
      }
    },
    {
      "cell_type": "code",
      "source": [
        "n=int(input())\n",
        "if n%2==0:\n",
        "  print(\"Even Number\")\n",
        "else:\n",
        "  print(\"Odd Number\")"
      ],
      "metadata": {
        "colab": {
          "base_uri": "https://localhost:8080/"
        },
        "id": "1A2He6QTTXXe",
        "outputId": "abc81dfb-0e41-449b-9b27-055ca4d42160"
      },
      "execution_count": null,
      "outputs": [
        {
          "output_type": "stream",
          "name": "stdout",
          "text": [
            "79\n",
            "Odd Number\n"
          ]
        }
      ]
    },
    {
      "cell_type": "markdown",
      "source": [
        "##**7. Pangram**"
      ],
      "metadata": {
        "id": "EUI774hV4gNm"
      }
    },
    {
      "cell_type": "code",
      "source": [
        "n = input(\"Enter a string: \")\n",
        "alphabet=set(\"abcdefghijklmnopqrstuvwxyz\")\n",
        "def pangram_check(n):\n",
        "  n=n.lower()\n",
        "  for char in alphabet:\n",
        "    if char not in n:\n",
        "      return False\n",
        "  return True\n",
        "\n",
        "print(pangram_check(n))"
      ],
      "metadata": {
        "colab": {
          "base_uri": "https://localhost:8080/"
        },
        "id": "xlbSohzOT6wm",
        "outputId": "d0c13723-ec13-4ccb-aafb-424e2a666854"
      },
      "execution_count": null,
      "outputs": [
        {
          "output_type": "stream",
          "name": "stdout",
          "text": [
            "Enter a string: the quick brown fox jumps over the lazy dog.\n",
            "True\n"
          ]
        }
      ]
    },
    {
      "cell_type": "markdown",
      "source": [
        "##**8. Count the number of words in a sentence**"
      ],
      "metadata": {
        "id": "iXwOPmYJd3yD"
      }
    },
    {
      "cell_type": "code",
      "source": [
        "def count_words(n):\n",
        "  l=n.split()\n",
        "  return len(l)\n",
        "\n",
        "n=input(\"Enter a sentence: \")\n",
        "print(\"Total Words in this sentence is\",count_words(n))"
      ],
      "metadata": {
        "id": "cpmnBZSH410x",
        "colab": {
          "base_uri": "https://localhost:8080/"
        },
        "outputId": "5cb1c12b-9b42-4545-9b4f-5159b41a1d83"
      },
      "execution_count": null,
      "outputs": [
        {
          "output_type": "stream",
          "name": "stdout",
          "text": [
            "Enter a sentence: Hi! My name is Sutapa\n",
            "Total Words in this sentence is 5\n"
          ]
        }
      ]
    },
    {
      "cell_type": "markdown",
      "source": [
        "##**9. Find the sum of squares of numbers from 1 to N**"
      ],
      "metadata": {
        "id": "hE0eX7UdfLYA"
      }
    },
    {
      "cell_type": "code",
      "source": [
        "def square_number(n):\n",
        "  total = 0\n",
        "  for i in range(1,n+1):\n",
        "    total+=i**2\n",
        "  return total\n",
        "\n",
        "n=int(input())\n",
        "print(f\"Sum of squares of number from 1 to {n} is {square_number(n)}\")"
      ],
      "metadata": {
        "colab": {
          "base_uri": "https://localhost:8080/"
        },
        "id": "B7AC0w4LeMGF",
        "outputId": "648c2488-9884-4764-a0b3-684a92408875"
      },
      "execution_count": null,
      "outputs": [
        {
          "output_type": "stream",
          "name": "stdout",
          "text": [
            "5\n",
            "Sum of squares of number from 1 to 5 is 55\n"
          ]
        }
      ]
    },
    {
      "cell_type": "markdown",
      "source": [
        "##**10. Find the number is Armstrong or not**"
      ],
      "metadata": {
        "id": "kfwvKAg9gcgj"
      }
    },
    {
      "cell_type": "code",
      "source": [
        "def is_armstrong(n):\n",
        "  k=0\n",
        "  l=n\n",
        "  pow=len(str(n))\n",
        "  while n>0:\n",
        "    r=n%10\n",
        "    n=n//10\n",
        "    k+=r**pow\n",
        "  if k==l and l>0:\n",
        "    return \"Armstrong\"\n",
        "  else:\n",
        "    return \"Not an Armstrong\"\n",
        "\n",
        "\n",
        "n=int(input())\n",
        "print(is_armstrong(n))\n"
      ],
      "metadata": {
        "colab": {
          "base_uri": "https://localhost:8080/"
        },
        "id": "PPCOTqsMYXBt",
        "outputId": "12de20c3-4de7-42a3-d0af-60b5529ce1bd"
      },
      "execution_count": null,
      "outputs": [
        {
          "output_type": "stream",
          "name": "stdout",
          "text": [
            "5\n",
            "Armstrong\n"
          ]
        }
      ]
    },
    {
      "cell_type": "markdown",
      "source": [
        "##**11. Find max number in a list without max function**"
      ],
      "metadata": {
        "id": "CVDlaTSXbmVt"
      }
    },
    {
      "cell_type": "code",
      "source": [
        "def max_number(arr,n):\n",
        "  max=arr[0]\n",
        "  for i in range(1,n):\n",
        "    if arr[i]>max:\n",
        "      max=arr[i]\n",
        "  return max\n",
        "\n",
        "arr=list(map(int,input().split()))\n",
        "n=len(arr)\n",
        "print(max_number(arr,n))"
      ],
      "metadata": {
        "colab": {
          "base_uri": "https://localhost:8080/"
        },
        "id": "YPIpiKD1Ztxx",
        "outputId": "655ca59e-c20c-48eb-8251-7ebb0bae3e0d"
      },
      "execution_count": null,
      "outputs": [
        {
          "output_type": "stream",
          "name": "stdout",
          "text": [
            "2 3 4 5 1 98 56 44\n",
            "98\n"
          ]
        }
      ]
    },
    {
      "cell_type": "markdown",
      "source": [
        "##**12. Min Number without min function**"
      ],
      "metadata": {
        "id": "hygCowbAdnKH"
      }
    },
    {
      "cell_type": "code",
      "source": [
        "def min_number(arr,n):\n",
        "  min=arr[0]\n",
        "  for i in range(1,n):\n",
        "    if arr[i]<min:\n",
        "      min=arr[i]\n",
        "  return min\n",
        "arr=list(map(int,input().split()))\n",
        "n=len(arr)\n",
        "print(min_number(arr,n))"
      ],
      "metadata": {
        "colab": {
          "base_uri": "https://localhost:8080/"
        },
        "id": "v51RjMyZcn7e",
        "outputId": "44359fb8-d7f5-4890-fee9-2b36c3ab3d63"
      },
      "execution_count": null,
      "outputs": [
        {
          "output_type": "stream",
          "name": "stdout",
          "text": [
            "2 3 4 5 1 98 56 44\n",
            "1\n"
          ]
        }
      ]
    },
    {
      "cell_type": "markdown",
      "source": [
        "##**13. Program to print ASCII Value of a character**"
      ],
      "metadata": {
        "id": "K8gVkJ6_gU__"
      }
    },
    {
      "cell_type": "code",
      "source": [
        "def ascii_value(a):\n",
        "  return ord(a)\n",
        "a=input()\n",
        "print(ascii_value(a))\n"
      ],
      "metadata": {
        "colab": {
          "base_uri": "https://localhost:8080/"
        },
        "id": "NsMTsjsbeA3v",
        "outputId": "35d64e3d-5d17-48fb-9105-60b6762136ec"
      },
      "execution_count": null,
      "outputs": [
        {
          "output_type": "stream",
          "name": "stdout",
          "text": [
            "A\n",
            "65\n"
          ]
        }
      ]
    },
    {
      "cell_type": "markdown",
      "source": [
        "##**14. Number Palindrome**"
      ],
      "metadata": {
        "id": "itBJi5O2hMvx"
      }
    },
    {
      "cell_type": "code",
      "source": [
        "n = int(input())\n",
        "def is_number_palindrome(n):\n",
        "  original = n\n",
        "  result=0\n",
        "  while n>0:\n",
        "    r=n%10\n",
        "    n=n//10\n",
        "    result=result*10 + r\n",
        "  if original == result:\n",
        "    return \"Palindrome\"\n",
        "  else:\n",
        "    return \"Not Palindrome\"\n",
        "\n",
        "print(is_number_palindrome(n))"
      ],
      "metadata": {
        "colab": {
          "base_uri": "https://localhost:8080/"
        },
        "id": "3ax3UD29g-Ab",
        "outputId": "469dc895-411e-4418-a3f0-cb0894e73753"
      },
      "execution_count": null,
      "outputs": [
        {
          "output_type": "stream",
          "name": "stdout",
          "text": [
            "11211\n",
            "Palindrome\n"
          ]
        }
      ]
    },
    {
      "cell_type": "markdown",
      "source": [
        "##**15. Number is a Perfect Square**"
      ],
      "metadata": {
        "id": "7FUStz1PhyKr"
      }
    },
    {
      "cell_type": "code",
      "source": [
        "def is_perfect(n):\n",
        "  if n<0:\n",
        "    return False\n",
        "  else:\n",
        "    sq=int(n**0.5)\n",
        "    return sq*sq==n\n",
        "\n",
        "n=int(input())\n",
        "print(is_perfect(n))"
      ],
      "metadata": {
        "id": "Ij4IPUamBYsY",
        "colab": {
          "base_uri": "https://localhost:8080/"
        },
        "outputId": "96e2e4c5-3082-48c4-d2e3-3427f3c45ce7"
      },
      "execution_count": 31,
      "outputs": [
        {
          "output_type": "stream",
          "name": "stdout",
          "text": [
            "25\n",
            "True\n"
          ]
        }
      ]
    },
    {
      "cell_type": "markdown",
      "source": [
        "##**16. Given number is Fibonacci Number or not**"
      ],
      "metadata": {
        "id": "0ANlGfdxD5D2"
      }
    },
    {
      "cell_type": "code",
      "source": [
        "def is_fibo(n):\n",
        "  return is_perfect(5*n*n + 4) or is_perfect(5*n*n - 4)\n",
        "\n",
        "n=int(input())\n",
        "print(is_fibo(n))"
      ],
      "metadata": {
        "id": "YEWH74rHBmgi",
        "colab": {
          "base_uri": "https://localhost:8080/"
        },
        "outputId": "05639f74-f1f4-4d74-b76d-3ff314e8731b"
      },
      "execution_count": 27,
      "outputs": [
        {
          "output_type": "stream",
          "name": "stdout",
          "text": [
            "13\n",
            "True\n"
          ]
        }
      ]
    },
    {
      "cell_type": "markdown",
      "source": [
        "##**17. Binary Search**"
      ],
      "metadata": {
        "id": "csszid0SHHY8"
      }
    },
    {
      "cell_type": "code",
      "source": [
        "def binary_search(a,n):\n",
        "  l=0\n",
        "  h=len(a)-1\n",
        "  m=0\n",
        "  while l<=h:\n",
        "    m=(l+h)//2\n",
        "    if a[m]==n:\n",
        "      return m\n",
        "    elif a[m]>n:\n",
        "      h=m-1\n",
        "    else:\n",
        "      l=m+1\n",
        "  return -1\n",
        "\n",
        "a=list(map(int,input().split()))\n",
        "n=int(input())\n",
        "\n",
        "result= binary_search(a,n)\n",
        "if result != -1:\n",
        "  print(f\"{n} found at index {result}\")\n",
        "else:\n",
        "  print(f\"{n} is not there in the list\")"
      ],
      "metadata": {
        "colab": {
          "base_uri": "https://localhost:8080/"
        },
        "id": "OBFJW4SfGWqI",
        "outputId": "f209e9a3-c735-4b26-cb43-1e58e9822f06"
      },
      "execution_count": 52,
      "outputs": [
        {
          "output_type": "stream",
          "name": "stdout",
          "text": [
            "1 2 3 4 5 6\n",
            "6\n",
            "6 found at index 5\n"
          ]
        }
      ]
    },
    {
      "cell_type": "markdown",
      "source": [
        "##**18. Linear Search**"
      ],
      "metadata": {
        "id": "TmEcXslYPsGg"
      }
    },
    {
      "cell_type": "code",
      "source": [
        "def linear_search(a,n):\n",
        "  for i in range(len(a)):\n",
        "    if n==a[i]:\n",
        "      return i\n",
        "  return -1\n",
        "\n",
        "a=list(map(int,input().split()))\n",
        "n=int(input())\n",
        "\n",
        "result=linear_search(a,n)\n",
        "if result != -1:\n",
        "  print(f\"{n} is found at {result}\")\n",
        "else:\n",
        "  print(f\"{n} is not there in the list\")"
      ],
      "metadata": {
        "colab": {
          "base_uri": "https://localhost:8080/"
        },
        "id": "g0HAgRDWOYIR",
        "outputId": "0457f616-4d56-4743-8137-e273a1313a29"
      },
      "execution_count": 57,
      "outputs": [
        {
          "output_type": "stream",
          "name": "stdout",
          "text": [
            "6754 8736437 8787 123 876\n",
            "8787\n",
            "8787 is found at 2\n"
          ]
        }
      ]
    },
    {
      "cell_type": "markdown",
      "source": [
        "##**19. Bubble Sort**"
      ],
      "metadata": {
        "id": "AYuvKFRqW4ug"
      }
    },
    {
      "cell_type": "code",
      "source": [
        "def bubble_sort(a):\n",
        "  n=len(a)\n",
        "  for i in range(n-1):\n",
        "    for j in range(n-1,0,-1):\n",
        "      if a[j]<a[j-1]:\n",
        "        a[j-1],a[j]=a[j],a[j-1]\n",
        "  return a\n",
        "\n",
        "a=list(map(int,input().split()))\n",
        "print(bubble_sort(a))\n"
      ],
      "metadata": {
        "colab": {
          "base_uri": "https://localhost:8080/"
        },
        "id": "6YsucWhoWjef",
        "outputId": "1d24ac16-a1f2-4193-b532-9253c0ba2ba8"
      },
      "execution_count": 6,
      "outputs": [
        {
          "output_type": "stream",
          "name": "stdout",
          "text": [
            "4 0 89 1 8\n",
            "[0, 1, 4, 8, 89]\n"
          ]
        }
      ]
    },
    {
      "cell_type": "markdown",
      "source": [
        "##**20. Insertion Sort**"
      ],
      "metadata": {
        "id": "csa46OSkwr7Q"
      }
    },
    {
      "cell_type": "code",
      "source": [
        "def insertion_sort(arr):\n",
        "  n=len(arr)\n",
        "  for i in range(1,n):\n",
        "    key=arr[i]\n",
        "    j=i-1\n",
        "    while j>=0 and arr[j]>key:\n",
        "      arr[j+1]=arr[j]\n",
        "      j=j-1\n",
        "    arr[j+1]=key\n",
        "  return arr\n",
        "\n",
        "\n",
        "arr=list(map(int,input().split()))\n",
        "result=insertion_sort(arr)\n",
        "print(result)"
      ],
      "metadata": {
        "colab": {
          "base_uri": "https://localhost:8080/"
        },
        "id": "OtPnTBDR3JEx",
        "outputId": "f4e5c28f-9f9a-44a8-c28c-e8d78cfe9adc"
      },
      "execution_count": 3,
      "outputs": [
        {
          "output_type": "stream",
          "name": "stdout",
          "text": [
            "4 0 89 1 8\n",
            "[0, 1, 4, 8, 89]\n"
          ]
        }
      ]
    },
    {
      "cell_type": "markdown",
      "source": [
        "##**21. Selection Sort**"
      ],
      "metadata": {
        "id": "FJZ66q1xLBpE"
      }
    },
    {
      "cell_type": "code",
      "source": [
        "def selection_sort(arr):\n",
        "  n=len(arr)\n",
        "  for i in range(n-1):\n",
        "    min=i\n",
        "    for j in range(i+1,n):\n",
        "      if arr[j]<arr[min]:\n",
        "        min=j\n",
        "    arr[i],arr[min]=arr[min],arr[i]\n",
        "  return arr\n",
        "\n",
        "arr=list(map(int,input().split()))\n",
        "result=selection_sort(arr)\n",
        "print(result)"
      ],
      "metadata": {
        "colab": {
          "base_uri": "https://localhost:8080/"
        },
        "id": "ZdbMpxlO7oRt",
        "outputId": "d6af712c-3195-4f7c-d671-d05c966a4da4"
      },
      "execution_count": 6,
      "outputs": [
        {
          "output_type": "stream",
          "name": "stdout",
          "text": [
            "4 0 89 1 8\n",
            "[0, 1, 4, 8, 89]\n"
          ]
        }
      ]
    },
    {
      "cell_type": "markdown",
      "source": [
        "##**22. Merge Sort**"
      ],
      "metadata": {
        "id": "aTDXPTp-Od77"
      }
    },
    {
      "cell_type": "code",
      "source": [
        "def merge(arr1,arr2):\n",
        "  n1=len(arr1)\n",
        "  n2=len(arr2)\n",
        "  result=[]\n",
        "  i,j=0,0\n",
        "  while i<n1 and j<n2:\n",
        "    if arr1[i]<arr2[j]:\n",
        "      result.append(arr1[i])\n",
        "      i+=1\n",
        "    else:\n",
        "      result.append(arr2[j])\n",
        "      j+=1\n",
        "  if i<n1:\n",
        "    result+=arr1[i:]\n",
        "  if j<n2:\n",
        "    result+=arr2[j:]\n",
        "  return result\n",
        "\n",
        "def merge_sort(arr):\n",
        "  n=len(arr)\n",
        "  if n<=1:\n",
        "    return arr\n",
        "  else:\n",
        "    left = merge_sort(arr[0:n//2])\n",
        "    right = merge_sort(arr[n//2:n])\n",
        "  return merge(left,right)\n",
        "\n",
        "arr=list(map(int,input().split()))\n",
        "res=merge_sort(arr)\n",
        "print(res)"
      ],
      "metadata": {
        "colab": {
          "base_uri": "https://localhost:8080/"
        },
        "id": "wxQxc9oDNm4q",
        "outputId": "28155e13-c43d-42b1-eb05-4e880f5b1bcd"
      },
      "execution_count": 9,
      "outputs": [
        {
          "output_type": "stream",
          "name": "stdout",
          "text": [
            "1 89 09 34 0 9 07 \n",
            "[0, 1, 7, 9, 9, 34, 89]\n"
          ]
        }
      ]
    },
    {
      "cell_type": "code",
      "source": [],
      "metadata": {
        "id": "i1MoT1bTP5fP"
      },
      "execution_count": 8,
      "outputs": []
    },
    {
      "cell_type": "code",
      "source": [],
      "metadata": {
        "id": "_4RD7lAUQY0Y"
      },
      "execution_count": null,
      "outputs": []
    }
  ]
}