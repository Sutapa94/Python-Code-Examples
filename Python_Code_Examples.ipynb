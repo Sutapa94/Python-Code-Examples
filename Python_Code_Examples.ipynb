{
  "nbformat": 4,
  "nbformat_minor": 0,
  "metadata": {
    "colab": {
      "provenance": [],
      "authorship_tag": "ABX9TyPjdxai736bgHQq2/Ea+IZR",
      "include_colab_link": true
    },
    "kernelspec": {
      "name": "python3",
      "display_name": "Python 3"
    },
    "language_info": {
      "name": "python"
    }
  },
  "cells": [
    {
      "cell_type": "markdown",
      "metadata": {
        "id": "view-in-github",
        "colab_type": "text"
      },
      "source": [
        "<a href=\"https://colab.research.google.com/github/Sutapa94/Python-Code-Examples/blob/main/Python_Code_Examples.ipynb\" target=\"_parent\"><img src=\"https://colab.research.google.com/assets/colab-badge.svg\" alt=\"Open In Colab\"/></a>"
      ]
    },
    {
      "cell_type": "markdown",
      "source": [
        "##**1. Prime Number**"
      ],
      "metadata": {
        "id": "EnDPQ3VGHRQq"
      }
    },
    {
      "cell_type": "code",
      "execution_count": null,
      "metadata": {
        "colab": {
          "base_uri": "https://localhost:8080/"
        },
        "id": "3w5NGo1sHQGW",
        "outputId": "7e99669a-5878-426b-ca07-09b11582207a"
      },
      "outputs": [
        {
          "output_type": "stream",
          "name": "stdout",
          "text": [
            "39\n",
            "39 is not prime\n"
          ]
        }
      ],
      "source": [
        "def is_prime(n):\n",
        "  if n<=1:\n",
        "    return False\n",
        "  elif n<=3:\n",
        "    return True\n",
        "  elif n%2==0 or n%3==0:\n",
        "    return False\n",
        "  i=5\n",
        "  while i*i<=n:\n",
        "    if n%i==0 or n%(i+2)==0:\n",
        "      return False\n",
        "    i+=6\n",
        "  return True\n",
        "\n",
        "n = int(input())\n",
        "if is_prime(n):\n",
        "  print(n, \"is prime\")\n",
        "else:\n",
        "  print(n, \"is not prime\")\n",
        "\n"
      ]
    },
    {
      "cell_type": "markdown",
      "source": [
        "##**2. Fibonacci Series**"
      ],
      "metadata": {
        "id": "StufkEKcL6AT"
      }
    },
    {
      "cell_type": "code",
      "source": [
        "n=int(input())\n",
        "a=0\n",
        "b=1\n",
        "print(a)\n",
        "print(b)\n",
        "for i in range(n-2):\n",
        "  c=a+b\n",
        "  print(c)\n",
        "  a=b\n",
        "  b=c\n"
      ],
      "metadata": {
        "colab": {
          "base_uri": "https://localhost:8080/"
        },
        "id": "0VI-U7SLHfUW",
        "outputId": "6a1d1c3b-2d60-4f48-bb46-39cd429c51d7"
      },
      "execution_count": null,
      "outputs": [
        {
          "output_type": "stream",
          "name": "stdout",
          "text": [
            "10\n",
            "0\n",
            "1\n",
            "1\n",
            "2\n",
            "3\n",
            "5\n",
            "8\n",
            "13\n",
            "21\n",
            "34\n"
          ]
        }
      ]
    },
    {
      "cell_type": "markdown",
      "source": [
        "##**3. Factorial of a number**"
      ],
      "metadata": {
        "id": "KtjA9gWqOqzG"
      }
    },
    {
      "cell_type": "code",
      "source": [
        "n = int(input())\n",
        "def fact(n):\n",
        "  if n<=1:\n",
        "    return 1\n",
        "  else:\n",
        "    return n*fact(n-1)\n",
        "\n",
        "print(fact(n))\n",
        "\n",
        "\n"
      ],
      "metadata": {
        "colab": {
          "base_uri": "https://localhost:8080/"
        },
        "id": "lVVrIlWNMUN6",
        "outputId": "98635286-89f6-4ae8-8d3a-7ae4c969cb2d"
      },
      "execution_count": null,
      "outputs": [
        {
          "output_type": "stream",
          "name": "stdout",
          "text": [
            "2\n",
            "2\n"
          ]
        }
      ]
    },
    {
      "cell_type": "markdown",
      "source": [
        "##**4. Palindrome**"
      ],
      "metadata": {
        "id": "drDDG4piP_aJ"
      }
    },
    {
      "cell_type": "code",
      "source": [
        "n= input()\n",
        "def is_palindrome(n):\n",
        "  l=n[::-1]\n",
        "  if n==l:\n",
        "    return True\n",
        "  else:\n",
        "    return False\n",
        "print(is_palindrome(n))\n"
      ],
      "metadata": {
        "colab": {
          "base_uri": "https://localhost:8080/"
        },
        "id": "wCmgNf61P5gm",
        "outputId": "1cc3bdec-6111-42b5-f5bc-cb6c8a06272e"
      },
      "execution_count": null,
      "outputs": [
        {
          "output_type": "stream",
          "name": "stdout",
          "text": [
            "aabccbaa\n",
            "True\n"
          ]
        }
      ]
    },
    {
      "cell_type": "markdown",
      "source": [
        "##**5. Reverse without [::-1] or any special functions**"
      ],
      "metadata": {
        "id": "PJVkwAhpTAAC"
      }
    },
    {
      "cell_type": "code",
      "source": [
        "n=input()\n",
        "def rev(n):\n",
        "  result=\"\"\n",
        "  for i in n:\n",
        "    result= i+result\n",
        "  return result\n",
        "\n",
        "print(rev(n))"
      ],
      "metadata": {
        "colab": {
          "base_uri": "https://localhost:8080/"
        },
        "id": "32rsmqq9SFvh",
        "outputId": "9978ca20-83d4-4111-f8f6-049fa7bf7ded"
      },
      "execution_count": null,
      "outputs": [
        {
          "output_type": "stream",
          "name": "stdout",
          "text": [
            "ggttvb\n",
            "bvttgg\n"
          ]
        }
      ]
    },
    {
      "cell_type": "markdown",
      "source": [
        "##**6. Even or Odd**"
      ],
      "metadata": {
        "id": "SVssZg8fTopj"
      }
    },
    {
      "cell_type": "code",
      "source": [
        "n=int(input())\n",
        "if n%2==0:\n",
        "  print(\"Even Number\")\n",
        "else:\n",
        "  print(\"Odd Number\")"
      ],
      "metadata": {
        "colab": {
          "base_uri": "https://localhost:8080/"
        },
        "id": "1A2He6QTTXXe",
        "outputId": "abc81dfb-0e41-449b-9b27-055ca4d42160"
      },
      "execution_count": null,
      "outputs": [
        {
          "output_type": "stream",
          "name": "stdout",
          "text": [
            "79\n",
            "Odd Number\n"
          ]
        }
      ]
    },
    {
      "cell_type": "markdown",
      "source": [
        "##**7. Pangram**"
      ],
      "metadata": {
        "id": "EUI774hV4gNm"
      }
    },
    {
      "cell_type": "code",
      "source": [
        "n = input(\"Enter a string: \")\n",
        "alphabet=set(\"abcdefghijklmnopqrstuvwxyz\")\n",
        "def pangram_check(n):\n",
        "  n=n.lower()\n",
        "  for char in alphabet:\n",
        "    if char not in n:\n",
        "      return False\n",
        "  return True\n",
        "\n",
        "print(pangram_check(n))"
      ],
      "metadata": {
        "colab": {
          "base_uri": "https://localhost:8080/"
        },
        "id": "xlbSohzOT6wm",
        "outputId": "d0c13723-ec13-4ccb-aafb-424e2a666854"
      },
      "execution_count": null,
      "outputs": [
        {
          "output_type": "stream",
          "name": "stdout",
          "text": [
            "Enter a string: the quick brown fox jumps over the lazy dog.\n",
            "True\n"
          ]
        }
      ]
    },
    {
      "cell_type": "markdown",
      "source": [
        "##**8. Count the number of words in a sentence**"
      ],
      "metadata": {
        "id": "iXwOPmYJd3yD"
      }
    },
    {
      "cell_type": "code",
      "source": [
        "def count_words(n):\n",
        "  l=n.split()\n",
        "  return len(l)\n",
        "\n",
        "n=input(\"Enter a sentence: \")\n",
        "print(\"Total Words in this sentence is\",count_words(n))"
      ],
      "metadata": {
        "id": "cpmnBZSH410x",
        "colab": {
          "base_uri": "https://localhost:8080/"
        },
        "outputId": "5cb1c12b-9b42-4545-9b4f-5159b41a1d83"
      },
      "execution_count": 5,
      "outputs": [
        {
          "output_type": "stream",
          "name": "stdout",
          "text": [
            "Enter a sentence: Hi! My name is Sutapa\n",
            "Total Words in this sentence is 5\n"
          ]
        }
      ]
    },
    {
      "cell_type": "markdown",
      "source": [
        "##**9. Find the sum of squares of numbers from 1 to N**"
      ],
      "metadata": {
        "id": "hE0eX7UdfLYA"
      }
    },
    {
      "cell_type": "code",
      "source": [
        "def square_number(n):\n",
        "  total = 0\n",
        "  for i in range(1,n+1):\n",
        "    total+=i**2\n",
        "  return total\n",
        "\n",
        "n=int(input())\n",
        "print(f\"Sum of squares of number from 1 to {n} is {square_number(n)}\")"
      ],
      "metadata": {
        "colab": {
          "base_uri": "https://localhost:8080/"
        },
        "id": "B7AC0w4LeMGF",
        "outputId": "648c2488-9884-4764-a0b3-684a92408875"
      },
      "execution_count": 11,
      "outputs": [
        {
          "output_type": "stream",
          "name": "stdout",
          "text": [
            "5\n",
            "Sum of squares of number from 1 to 5 is 55\n"
          ]
        }
      ]
    },
    {
      "cell_type": "markdown",
      "source": [
        "##**10. Find the number is Armstrong or not**"
      ],
      "metadata": {
        "id": "kfwvKAg9gcgj"
      }
    },
    {
      "cell_type": "code",
      "source": [
        "def is_armstrong(n):\n",
        "  k=0\n",
        "  l=n\n",
        "  pow=len(str(n))\n",
        "  while n>0:\n",
        "    r=n%10\n",
        "    n=n//10\n",
        "    k+=r**pow\n",
        "  if k==l and l>0:\n",
        "    return \"Armstrong\"\n",
        "  else:\n",
        "    return \"Not an Armstrong\"\n",
        "\n",
        "\n",
        "n=int(input())\n",
        "print(is_armstrong(n))\n"
      ],
      "metadata": {
        "colab": {
          "base_uri": "https://localhost:8080/"
        },
        "id": "PPCOTqsMYXBt",
        "outputId": "cfd859e2-1d53-4108-9b8e-aa93bd9923eb"
      },
      "execution_count": 52,
      "outputs": [
        {
          "output_type": "stream",
          "name": "stdout",
          "text": [
            "5\n",
            "Armstrong\n"
          ]
        }
      ]
    },
    {
      "cell_type": "markdown",
      "source": [
        "##**11. Find max number in a list without max function**"
      ],
      "metadata": {
        "id": "CVDlaTSXbmVt"
      }
    },
    {
      "cell_type": "code",
      "source": [
        "def max_number(arr,n):\n",
        "  max=arr[0]\n",
        "  for i in range(1,n):\n",
        "    if arr[i]>max:\n",
        "      max=arr[i]\n",
        "  return max\n",
        "\n",
        "arr=list(map(int,input().split()))\n",
        "n=len(arr)\n",
        "print(max_number(arr,n))"
      ],
      "metadata": {
        "colab": {
          "base_uri": "https://localhost:8080/"
        },
        "id": "YPIpiKD1Ztxx",
        "outputId": "655ca59e-c20c-48eb-8251-7ebb0bae3e0d"
      },
      "execution_count": 59,
      "outputs": [
        {
          "output_type": "stream",
          "name": "stdout",
          "text": [
            "2 3 4 5 1 98 56 44\n",
            "98\n"
          ]
        }
      ]
    },
    {
      "cell_type": "markdown",
      "source": [
        "##**12. Min Number without min function**"
      ],
      "metadata": {
        "id": "hygCowbAdnKH"
      }
    },
    {
      "cell_type": "code",
      "source": [
        "def min_number(arr,n):\n",
        "  min=arr[0]\n",
        "  for i in range(1,n):\n",
        "    if arr[i]<min:\n",
        "      min=arr[i]\n",
        "  return min\n",
        "arr=list(map(int,input().split()))\n",
        "n=len(arr)\n",
        "print(min_number(arr,n))"
      ],
      "metadata": {
        "colab": {
          "base_uri": "https://localhost:8080/"
        },
        "id": "v51RjMyZcn7e",
        "outputId": "44359fb8-d7f5-4890-fee9-2b36c3ab3d63"
      },
      "execution_count": 67,
      "outputs": [
        {
          "output_type": "stream",
          "name": "stdout",
          "text": [
            "2 3 4 5 1 98 56 44\n",
            "1\n"
          ]
        }
      ]
    },
    {
      "cell_type": "markdown",
      "source": [
        "##**13. Program to print ASCII Value of a character**"
      ],
      "metadata": {
        "id": "K8gVkJ6_gU__"
      }
    },
    {
      "cell_type": "code",
      "source": [
        "def ascii_value(a):\n",
        "  return ord(a)\n",
        "a=input()\n",
        "print(ascii_value(a))\n"
      ],
      "metadata": {
        "colab": {
          "base_uri": "https://localhost:8080/"
        },
        "id": "NsMTsjsbeA3v",
        "outputId": "35d64e3d-5d17-48fb-9105-60b6762136ec"
      },
      "execution_count": 69,
      "outputs": [
        {
          "output_type": "stream",
          "name": "stdout",
          "text": [
            "A\n",
            "65\n"
          ]
        }
      ]
    },
    {
      "cell_type": "markdown",
      "source": [
        "##**14. Python Program for array rotation**"
      ],
      "metadata": {
        "id": "itBJi5O2hMvx"
      }
    },
    {
      "cell_type": "code",
      "source": [],
      "metadata": {
        "id": "3ax3UD29g-Ab"
      },
      "execution_count": null,
      "outputs": []
    }
  ]
}